{
 "cells": [
  {
   "cell_type": "code",
   "execution_count": 1,
   "id": "6799b895-70c5-4bbd-81c0-d3145bfb8493",
   "metadata": {},
   "outputs": [],
   "source": [
    "%matplotlib inline\n",
    "import matplotlib.pyplot as plt\n",
    "import numpy as np\n",
    "from scipy import optimize\n",
    "import xarray as xr\n",
    "import struct\n",
    "as_int = lambda f: struct.unpack('>l', struct.pack('>f', f))"
   ]
  },
  {
   "cell_type": "markdown",
   "id": "bb837528-0071-4d85-9c05-83754ad2bc8b",
   "metadata": {},
   "source": [
    "### Making a list of all the file names"
   ]
  },
  {
   "cell_type": "code",
   "execution_count": 2,
   "id": "79c006f8-1163-4bb6-aa56-fa813b27f99c",
   "metadata": {},
   "outputs": [
    {
     "name": "stdout",
     "output_type": "stream",
     "text": [
      "3B42_Daily.19980101.7.nc4\n",
      "365\n"
     ]
    }
   ],
   "source": [
    "# Code to loop through every filename (working)\n",
    "beginning = \"3B42_Daily.\"\n",
    "end = \".7.nc4\"\n",
    "\n",
    "def YearLoop(yb, ye):\n",
    "    dates = []\n",
    "    for i in np.arange(yb, ye+1):\n",
    "        year = i\n",
    "        for j in np.arange (1, 12+1):\n",
    "            month = j\n",
    "            if len(str(month)) < 2:\n",
    "                month = str(0) + str(month)\n",
    "            if j==1 or j==3 or j==5 or j==7 or j==8 or j==10 or (j==12 and year != 2019):\n",
    "                for k in np.arange (1, 31+1):\n",
    "                    day = k\n",
    "                    if len(str(day)) < 2:\n",
    "                        day = str(0) + str(day)\n",
    "                    dates.append((str(year) + str(month) + str(day)))\n",
    "            if j==4 or j==6 or j==9 or j==11 or (j == 12 and year == 2019):\n",
    "                for k in np.arange (1, 30+1):\n",
    "                    day = k\n",
    "                    if len(str(day)) < 2:\n",
    "                        day = str(0) + str(day)\n",
    "                    dates.append((str(year) + str(month) + str(day)))\n",
    "            if j == 2 and year%4 == 0:\n",
    "                for k in range (1, 29+1):\n",
    "                    day = k\n",
    "                    if len(str(day)) < 2:\n",
    "                        day = str(0) + str(day)\n",
    "                    dates.append((str(year) + str(month) + str(day)))\n",
    "            if j == 2 and year%4 != 0:\n",
    "                for k in range (1, 28+1):\n",
    "                    day = k\n",
    "                    if len(str(day)) < 2:\n",
    "                        day = str(0) + str(day)\n",
    "                    dates.append((str(year) + str(month) + str(day)))\n",
    "    return dates\n",
    "\n",
    "middle = YearLoop(1998, 1998)[0]\n",
    "filename = beginning + middle + end"
   ]
  },
  {
   "cell_type": "markdown",
   "id": "f7b0b525-ef96-4f05-8af7-c9310ed230f9",
   "metadata": {},
   "source": [
    "### Making a 3D array of all the rainfall values of the entire grid for a given year"
   ]
  },
  {
   "cell_type": "code",
   "execution_count": 3,
   "id": "c973247e-bf59-436d-a740-a64db4766aa1",
   "metadata": {},
   "outputs": [],
   "source": [
    "def MultipleCellcal(year):\n",
    "    beginning = \"TRMM data/3B42_Daily.\"\n",
    "    end = \".7.nc4\"\n",
    "    Loop = YearLoop(year,year)\n",
    "    temp = np.zeros([1440,400])\n",
    "    NumberOfDays = len(Loop)\n",
    "    for i in range(len(Loop)):\n",
    "        middle = Loop[i]\n",
    "        filename = beginning + middle + end\n",
    "        ds = xr.load_dataset(filename)\n",
    "        precp = ds.precipitation\n",
    "        temp = np.dstack((temp, precp))\n",
    "    temp = np.nan_to_num(temp)  # To replace nan with 0 and make sure that the sort here after puts these \"zeros\" at the bottom of the array\n",
    "    temp = np.sort(temp)\n",
    "    Top25 = temp[:,:,-25:]\n",
    "    np.save(\"MultiplecellTop25\"+str(year),Top25)"
   ]
  },
  {
   "cell_type": "markdown",
   "id": "e593085d-b414-4007-b74c-7d918f8cb2c9",
   "metadata": {},
   "source": [
    "#### Running the code above for the entire data set"
   ]
  },
  {
   "cell_type": "code",
   "execution_count": 4,
   "id": "bbafe154-9309-4587-998f-bb895efe7ac3",
   "metadata": {},
   "outputs": [],
   "source": [
    "for i in np.arange(1998, 2019+1):\n",
    "    MultipleCellcal(i)"
   ]
  },
  {
   "cell_type": "markdown",
   "id": "c81f9f6f-0674-4395-837f-e1de28e51c7b",
   "metadata": {},
   "source": [
    "### Looking at a bloack of 5 years to determine the top 25 for every single cell"
   ]
  },
  {
   "cell_type": "code",
   "execution_count": 17,
   "id": "543218ba-4bd7-447a-8b14-e5c657485bc5",
   "metadata": {},
   "outputs": [],
   "source": [
    "beginning = \"MultiplecellTop25\"\n",
    "end = \".npy\"\n",
    "    \n",
    "for k in np.arange(17+1):\n",
    "    year = 1998 + k\n",
    "    temp =[]\n",
    "    for i in np.arange(year, year+4+1):\n",
    "        middle = i\n",
    "        name = beginning + str(middle) + end\n",
    "        if i == year:\n",
    "            temp = np.load(name)\n",
    "        else:\n",
    "            temp = np.dstack((temp, np.load(name)))\n",
    "    temp = np.sort(temp)\n",
    "    Top25 = temp[:,:,-25:]\n",
    "    np.save(\"Multiple5yearTop\" + str(year), Top25)\n",
    "    year5 = Top25[:,:,24]\n",
    "    year1 = Top25[:,:,-5]\n",
    "    year02 = Top25[:,:,0]\n",
    "    np.save(\"Multipleyear5max\" + str(year) ,year5)\n",
    "    np.save(\"Multipleyear1max\" + str(year) ,year1)\n",
    "    np.save(\"Multipleyear0,2max\" + str(year) ,year02)"
   ]
  },
  {
   "cell_type": "markdown",
   "id": "71f8c424-f4ed-4254-b27b-3a1fd7a504ff",
   "metadata": {},
   "source": [
    "### Fitting a line to the rainfall for 5, 1 and 0.2 year repeat times just calculated for every single cell"
   ]
  },
  {
   "cell_type": "code",
   "execution_count": 20,
   "id": "85bc2621-3f67-49ed-8162-d9617295caf6",
   "metadata": {},
   "outputs": [
    {
     "name": "stderr",
     "output_type": "stream",
     "text": [
      "C:\\Users\\woute\\anaconda3\\lib\\site-packages\\scipy\\optimize\\minpack.py:828: OptimizeWarning: Covariance of the parameters could not be estimated\n",
      "  warnings.warn('Covariance of the parameters could not be estimated',\n"
     ]
    }
   ],
   "source": [
    "def func(x, a, b):\n",
    "    y = a*x + b\n",
    "    return y\n",
    "\n",
    "alphaArray02 = []\n",
    "alphaArray1 = []\n",
    "alphaArray5 = []\n",
    "\n",
    "betaArray02 = []\n",
    "betaArray1 = []\n",
    "betaArray5 = []\n",
    "\n",
    "gammaArray02 = []\n",
    "gammaArray1 = []\n",
    "gammaArray5 = []\n",
    "# Loops through 0.2, 1 and 5 year return times\n",
    "for n in np.arange(3):\n",
    "    num = ['0,2', '1', '5']\n",
    "    \n",
    "    alpha = np.zeros([1440,400])\n",
    "    beta = np.zeros([1440,400])\n",
    "    gamma = np.zeros([1440,400])\n",
    "    y = []\n",
    "    \n",
    "    # Loops through the files for every bloack of 5 years and stacks them\n",
    "    for i in np.arange(18):\n",
    "        name = \"Multipleyear\" + str(num[n]) + \"max\" + str(1998 + i) + \".npy\"\n",
    "        data = np.load(name)\n",
    "        if i == 0:\n",
    "            y = data\n",
    "        else:\n",
    "            y = np.dstack((y, data))\n",
    "    \n",
    "    x = np.arange(2000, 2000+18)\n",
    "    NumberofNAN = 0\n",
    "    \n",
    "    # Loops through every cell and calculates the fit line\n",
    "    for i in range(1440):\n",
    "        for j in range(400):\n",
    "            if np.any(np.isnan(y[i,j])):\n",
    "                alpha[i,j] = 0\n",
    "                NumberofNAN += 1\n",
    "            else:\n",
    "                a, b = optimize.curve_fit(func, xdata = x, ydata = y[i,j])[0]\n",
    "                alpha[i,j] = a\n",
    "                beta[i,j] = b\n",
    "                gamma[i,j] = func(2000, a, b)\n",
    "                \n",
    "    if n == 0:\n",
    "        alphaArray02 = alpha\n",
    "        betaArray02 = beta\n",
    "        gammaArray02 = gamma\n",
    "    elif n == 1:\n",
    "        alphaArray1 = alpha\n",
    "        betaArray1 = beta\n",
    "        gammaArray1 = gamma\n",
    "    elif n == 2:\n",
    "        alphaArray5 = alpha\n",
    "        betaArray5 = beta\n",
    "        gammaArray5 = gamma"
   ]
  },
  {
   "cell_type": "markdown",
   "id": "d9fffed5-50f5-4987-9fa7-2efd0ac2cb17",
   "metadata": {},
   "source": [
    "### Saving desired data as netcdf4 files (manipulation required)."
   ]
  },
  {
   "cell_type": "code",
   "execution_count": 39,
   "id": "2be6775f-db71-44c4-b7f4-242640e9eef6",
   "metadata": {},
   "outputs": [],
   "source": [
    "longitude = np.linspace(-180, 180, 1440)\n",
    "latitude = np.linspace(-50, 50, 400)\n",
    "\n",
    "\n",
    "### only make one netcdf4 file at a time ###\n",
    "# For calculating the percentage increase difference between two recurance periods and making a netcdf4 file \n",
    "#df = xr.DataArray((np.divide(alphaArray1, gammaArray1)-np.divide(alphaArray02, gammaArray02)), coords=[('lon', longitude), ('lat', latitude)])\n",
    "\n",
    "# Making a netcdf4 file for the increase in precipitaion in mm/day/year\n",
    "#df = xr.DataArray((alphaArray5), coords=[('lon', longitude), ('lat', latitude)])\n",
    "\n",
    "### Saving the newly made netcdf4 file under an appropriate name ###\n",
    "#df.to_netcdf('netcdfperc1minus02year_withnanto0.nc')"
   ]
  },
  {
   "cell_type": "code",
   "execution_count": null,
   "id": "535ab4ff-a68a-4179-8b2c-59876008543e",
   "metadata": {},
   "outputs": [],
   "source": []
  },
  {
   "cell_type": "code",
   "execution_count": null,
   "id": "634d84af-2ddd-4672-a7c5-3d5ac0e5a51c",
   "metadata": {},
   "outputs": [],
   "source": []
  },
  {
   "cell_type": "code",
   "execution_count": null,
   "id": "fb2cf8a9-1859-45fc-af49-45dc4d4806cf",
   "metadata": {},
   "outputs": [],
   "source": []
  },
  {
   "cell_type": "code",
   "execution_count": null,
   "id": "4f782ec4-e385-48c7-9fd5-ea648f53ee9a",
   "metadata": {},
   "outputs": [],
   "source": []
  }
 ],
 "metadata": {
  "kernelspec": {
   "display_name": "Python 3",
   "language": "python",
   "name": "python3"
  },
  "language_info": {
   "codemirror_mode": {
    "name": "ipython",
    "version": 3
   },
   "file_extension": ".py",
   "mimetype": "text/x-python",
   "name": "python",
   "nbconvert_exporter": "python",
   "pygments_lexer": "ipython3",
   "version": "3.8.8"
  }
 },
 "nbformat": 4,
 "nbformat_minor": 5
}
